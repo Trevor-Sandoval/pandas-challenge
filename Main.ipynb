{
 "cells": [
  {
   "cell_type": "markdown",
   "id": "0a707eb2",
   "metadata": {},
   "source": [
    "# PyCity Schools Analysis\n",
    "\n",
    "- Your analysis here\n",
    "  \n",
    "---"
   ]
  },
  {
   "cell_type": "code",
   "execution_count": null,
   "metadata": {},
   "outputs": [],
   "source": [
    "# Dependencies and Setup\n",
    "import pandas as pd\n",
    "from pathlib import Path\n",
    "\n",
    "# File to Load (Remember to Change These)\n",
    "school_data_to_load = Path(\"Resources/schools_complete.csv\")\n",
    "student_data_to_load = Path(\"Resources/students_complete.csv\")\n",
    "\n",
    "# Read School and Student Data File and store into Pandas DataFrames\n",
    "school_data = pd.read_csv(school_data_to_load)\n",
    "student_data = pd.read_csv(student_data_to_load)\n",
    "\n",
    "# Display the first few rows of the school_data DataFrame\n",
    "print(\"School Data:\")\n",
    "print(school_data.head())\n",
    "\n",
    "# Display the first few rows of the student_data DataFrame\n",
    "print(\"\\nStudent Data:\")\n",
    "print(student_data.head())\n",
    "\n",
    "# Combine the data into a single dataset\n",
    "school_data_complete = pd.merge(student_data, school_data, how=\"left\", on=[\"school_name\", \"school_name\"])\n",
    "\n",
    "# Display the first few rows of the combined dataset\n",
    "print(\"\\nCombined Data:\")\n",
    "print(school_data_complete.head())"
   ]
  },
  {
   "cell_type": "markdown",
   "id": "e3939b24",
   "metadata": {},
   "source": [
    "## District Summary"
   ]
  },
  {
   "cell_type": "code",
   "execution_count": null,
   "id": "441c8a27",
   "metadata": {},
   "outputs": [],
   "source": [
    "# Calculate the total number of unique schools\n",
    "total_unique_schools = school_data_complete['school_name'].nunique()\n",
    "print(\"Total number of unique schools:\", total_unique_schools)"
   ]
  },
  {
   "cell_type": "code",
   "execution_count": null,
   "id": "b05545ab",
   "metadata": {},
   "outputs": [],
   "source": [
    "# Calculate the total number of students\n",
    "total_students = school_data_complete['student_name'].count()\n",
    "print(\"Total number of students:\", total_students)"
   ]
  },
  {
   "cell_type": "code",
   "execution_count": null,
   "id": "eee0889f",
   "metadata": {},
   "outputs": [],
   "source": [
    "# Calculate the total budget\n",
    "total_budget = school_data_complete['budget'].sum()\n",
    "print(\"Total budget:\", total_budget)"
   ]
  },
  {
   "cell_type": "code",
   "execution_count": null,
   "id": "318cc18f",
   "metadata": {},
   "outputs": [],
   "source": [
    "# Calculate the average (mean) math score\n",
    "average_math_score = school_data_complete['math_score'].mean()\n",
    "print(\"Average math score:\", average_math_score)"
   ]
  },
  {
   "cell_type": "code",
   "execution_count": null,
   "id": "7281793d",
   "metadata": {},
   "outputs": [],
   "source": [
    "# Calculate the average (mean) reading score\n",
    "average_reading_score = school_data_complete['reading_score'].mean()\n",
    "print(\"Average reading score:\", average_reading_score)"
   ]
  },
  {
   "cell_type": "code",
   "execution_count": null,
   "id": "fd12979f",
   "metadata": {},
   "outputs": [],
   "source": [
    "# Use the following to calculate the percentage of students who passed math (math scores greather than or equal to 70)\n"
   ]
  }
 ],
 "metadata": {
  "language_info": {
   "name": "python"
  }
 },
 "nbformat": 4,
 "nbformat_minor": 5
}

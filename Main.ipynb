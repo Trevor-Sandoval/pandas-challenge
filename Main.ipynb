{
 "cells": [
  {
   "cell_type": "markdown",
   "id": "0a707eb2",
   "metadata": {},
   "source": [
    "# PyCity Schools Analysis\n",
    "\n",
    "- Your analysis here\n",
    "  \n",
    "---"
   ]
  },
  {
   "cell_type": "code",
   "execution_count": null,
   "metadata": {},
   "outputs": [],
   "source": [
    "# Dependencies and Setup\n",
    "import pandas as pd\n",
    "from pathlib import Path\n",
    "\n",
    "# File to Load (Remember to Change These)\n",
    "school_data_to_load = Path(\"Resources/schools_complete.csv\")\n",
    "student_data_to_load = Path(\"Resources/students_complete.csv\")\n",
    "\n",
    "# Read School and Student Data File and store into Pandas DataFrames\n",
    "school_data = pd.read_csv(school_data_to_load)\n",
    "student_data = pd.read_csv(student_data_to_load)\n",
    "\n",
    "# Display the first few rows of the school_data DataFrame\n",
    "print(\"School Data:\")\n",
    "print(school_data.head())\n",
    "\n",
    "# Display the first few rows of the student_data DataFrame\n",
    "print(\"\\nStudent Data:\")\n",
    "print(student_data.head())\n",
    "\n",
    "# Combine the data into a single dataset\n",
    "school_data_complete = pd.merge(student_data, school_data, how=\"left\", on=[\"school_name\", \"school_name\"])\n",
    "\n",
    "# Display the first few rows of the combined dataset\n",
    "print(\"\\nCombined Data:\")\n",
    "print(school_data_complete.head())"
   ]
  },
  {
   "cell_type": "markdown",
   "id": "e3939b24",
   "metadata": {},
   "source": [
    "## District Summary"
   ]
  },
  {
   "cell_type": "code",
   "execution_count": null,
   "id": "441c8a27",
   "metadata": {},
   "outputs": [],
   "source": [
    "# Calculate the total number of unique schools\n",
    "school_count =\n",
    "school_count\n"
   ]
  }
 ],
 "metadata": {
  "language_info": {
   "name": "python"
  }
 },
 "nbformat": 4,
 "nbformat_minor": 5
}

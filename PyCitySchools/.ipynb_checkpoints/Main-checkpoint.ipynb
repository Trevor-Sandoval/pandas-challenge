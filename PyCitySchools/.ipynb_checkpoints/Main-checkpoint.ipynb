{
 "cells": [
  {
   "cell_type": "markdown",
   "id": "0a707eb2",
   "metadata": {},
   "source": [
    "# PyCity Schools Analysis\n",
    "\n",
    "\n",
    "---\n",
    "\n",
    "## Written Report\n",
    "\n",
    "       In regards to the 1st dataset about the 5 students from Huang High School...the table contains information about students, including their Student ID, name, gender, grade, school name, reading score, math score, School ID, school type, school size, and school budget. Each row represents a different student with their corresponding information. The data seems to be related to student performance and school details, such as budget and size. This data could be used to analyze student performance trends, compare performance between schools, investigate the relationship between school budget and student scores, and more. Visualizations could be created to show distributions of reading and math scores, compare performance across different grades or schools, and explore correlations between variables like school size and student scores\n",
    "\n",
    "\n",
    "\n",
    "\n",
    "\n",
    "    -> District Summary: \n",
    "               \n",
    "       * School performance -- Huang High School has a mix of high and low performing students based on the reading and math scores. The average reading score for students at Huang High School is around 83, while the average math score is around 68.       \n",
    "       \n",
    "       * Student performance -- Bonnie Ray is a high-performing in both MATH and READING student with a reading score of 97 and a math score of 84. Dr. Richard Scott is a lower-performing student with a reading score of 67 and a math score of 58.\n",
    "       \n",
    "       * Gender Distribution -- The dataset includes male and female students, with the majority of the students being male based on the provided data. Further analysis can be done to compare the performance of male and female students. The only female in the dataset, Bonnie, was the highest performer in both categories compared to her male counterparts.\n",
    "       \n",
    "       * Budget Allocation -- The budget allocated to Huang High School is $1,910,635, which can be used to assess the financial resources available to the school for various programs and initiatives. The total budget allocated to the district is $24,649,428.00, which can be further analyzed to see how it is distributed among the schools and if there is any correlation between budget allocation and academic performance.\n",
    "       \n",
    "       * Grade Levels -- The dataset includes students from different grade levels, with students ranging from 9th to 12th grade. We can analyze the performance trends across different grade levels to identify any patterns or areas for improvement\n",
    "\n",
    "       * Passing Rates -- The passing rate for reading (85.81%) is higher than the passing rate for math (74.98%). The overall passing rate (65.17%) is lower than both the reading and math passing rates, indicating that there may be students who are struggling in both subjects.\n",
    "\n",
    "       * Average Scores -- The average reading score (81.88) is higher than the average math score (78.99), suggesting that students, on average, perform better in reading compared to math.\n",
    "\n",
    "       * Passing Rates vs Average Scores -- There seems to be a discrepancy between passing rates and average scores, as the passing rates are not directly proportional to the average scores. This could indicate varying levels of proficiency among students.\n",
    "       \n",
    "       * Overall Performance -- The overall passing rate of 65.17% indicates that there is room for improvement in ensuring that more students are successful in both math and reading.\n",
    "\n",
    "\n",
    "\n",
    "\n",
    "\n",
    "    -> School Summary:\n",
    "        \n",
    "        * School Type Comparison -- Charter schools generally have higher average math and reading scores compared to district schools. Charter schools tend to have higher passing rates in both math and reading, as well as higher overall passing rates.\n",
    "\n",
    "        * Budget Allocation & Performance -- Schools with lower per student budgets do not necessarily have lower average scores or passing rates. For example, Holden High School, with a lower budget per student, has high average scores and passing rates.\n",
    "\n",
    "        * Size of Schools -- Larger schools, such as Bailey High School and Johnson High School, have lower passing rates compared to smaller schools like Pena High School and Holden High School. Smaller schools seem to have higher average scores and passing rates.\n",
    "\n",
    "        * Consistenct in Performance -- Schools like Cabrera High School, Griffin High School, and Wilson High School consistently perform well across all metrics, indicating strong academic performance and high passing rates.\n",
    "\n",
    "        * Performance Disparities -- There are disparities in performance within district schools, with some schools like Huang High School and Rodriguez High School showing lower average scores and passing rates compared to others.\n",
    "\n",
    "\n",
    "\n",
    "\n",
    "\n",
    "    -> Highest-performing Schools:\n",
    "        \n",
    "        * Charter School Performance -- All schools in the dataset are charter schools, indicating that charter schools tend to have higher academic performance compared to district schools. Charter schools like Cabrera High School, Thomas High School, Griffin High School, Wilson High School, and Pena High School are among the highest-performing schools based on average scores and passing rates.\n",
    "        \n",
    "        * Academic Excellence -- The highest-performing schools have consistently high average math and reading scores, with values above 83 for both subjects. Schools like Cabrera High School and Pena High School have particularly high average reading scores, indicating strong literacy skills among students.\n",
    "        \n",
    "        * Passing Rates -- The highest-performing schools have impressive passing rates in both math and reading, with percentages above 90% for passing math and reading individually. The overall passing rates for these schools are also notably high, indicating a high level of academic success among students.\n",
    "        \n",
    "        * Budget Allocation -- Despite varying total school budgets and per student budgets, the highest-performing schools demonstrate that academic excellence can be achieved across different budget levels. Schools like Cabrera High School and Thomas High School maintain high performance with budgets over $1 million, while Pena High School achieves similar success with a lower budget.\n",
    "        \n",
    "        * Consistency in Performance -- The highest-performing schools show consistency in academic performance across math and reading subjects, as well as in passing rates. Schools like Wilson High School and Griffin High School demonstrate a balance between math and reading performance, leading to high overall passing rates.\n",
    "        \n",
    "        * These trends highlight the exceptional academic performance and success rates of charter schools such as Cabrera High School, Thomas High School, Griffin High School, Wilson High School, and Pena High School. The data underscores the effectiveness of these schools in fostering a culture of academic excellence and supporting student achievement.\n",
    "        \n",
    "\n",
    "\n",
    "\n",
    "\n",
    "    -> Bottom-performing Schools:\n",
    "\n",
    "        * District School Performance -- All schools in the dataset are district schools, indicating that district schools tend to have lower academic performance compared to charter schools. Rodriguez High School, Figueroa High School, Huang High School, Hernandez High School, and Johnson High School are among the bottom-performing schools based on average scores and passing rates.\n",
    "        \n",
    "        * Academic Challenges -- The bottom-performing schools have lower average math and reading scores, with values below 77 for math and below 81 for reading. Schools like Huang High School and Rodriguez High School have particularly low average reading scores, indicating challenges in literacy skills among students.\n",
    "        \n",
    "        * Passing Rates -- The bottom-performing schools have lower passing rates in both math and reading, with percentages below 67% for passing math and below 81% for passing reading individually. The overall passing rates for these schools are notably low, indicating a need for improvement in academic success among students.\n",
    "        \n",
    "        * Budget Allocation -- Despite varying total school budgets and per student budgets, the bottom-performing schools demonstrate that academic challenges exist across different budget levels. Schools like Hernandez High School and Johnson High School have higher total budgets, but still face academic struggles in terms of average scores and passing rates.\n",
    "        \n",
    "        * Consistency in Performance -- The bottom-performing schools show consistency in lower academic performance across math and reading subjects, as well as in passing rates. Schools like Figueroa High School and Johnson High School demonstrate challenges in both math and reading performance, leading to lower overall passing rates.\n",
    "        \n",
    "        * These trends highlight the academic challenges and lower success rates of district schools such as Rodriguez High School, Figueroa High School, Huang High School, Hernandez High School, and Johnson High School. The data underscores the need for targeted interventions and support to address academic struggles and improve student achievement in these schools.\n",
    "\n",
    "\n",
    "\n",
    "\n",
    "\n",
    "    -> Math Scores by Grade:\n",
    "\n",
    "        * Consistency Across Grades -- In general, there is consistency in math scores across different grade levels within the same school. Most schools show relatively stable math scores as students progress from 9th to 12th grade.\n",
    "        \n",
    "        * Variability in Scores -- Some schools exhibit variations in math scores by grade level. For example, Holden High School shows an increase in math scores from 9th to 11th grade before a slight decrease in 12th grade.\n",
    "        \n",
    "        * High-Performing Schools -- Schools like Cabrera High School, Holden High School, Pena High School, Shelton High School, Thomas High School, Wilson High School, and Wright High School consistently maintain high math scores across all grade levels.\n",
    "        \n",
    "        * Low-Performing Schools -- Schools like Figueroa High School, Huang High School, and Johnson High School show relatively lower math scores across all grade levels compared to the high-performing schools.\n",
    "        \n",
    "        * Grade-Level Trends -- Some schools may show specific grade-level trends, such as improvements or declines in math scores as students progress through high school. Analyzing these trends can help identify areas for improvement and intervention at specific grade levels.\n",
    "        \n",
    "        * Overall Performance -- Schools with consistent high math scores across all grade levels demonstrate a strong focus on math education and student achievement. Schools with fluctuating or lower math scores may benefit from targeted strategies to improve math proficiency among students.\n",
    "        \n",
    "        *These trends provide insights into how math scores vary by grade level across different schools, highlighting both consistency and variability in performance. Further analysis can help identify factors influencing math scores by grade and inform strategies for enhancing math education and student success.\n",
    "\n",
    "\n",
    "\n",
    "\n",
    "\n",
    "    -> Reading Scores by Grade:\n",
    "\n",
    "        * Consistency Across Grades -- Similar to math scores, there is generally consistency in reading scores across different grade levels within the same school. Most schools show relatively stable reading scores as students progress from 9th to 12th grade.\n",
    "        \n",
    "        * High-Performing Schools -- Schools like Cabrera High School, Griffin High School, Holden High School, Pena High School, Shelton High School, Thomas High School, Wilson High School, and Wright High School consistently maintain high reading scores across all grade levels.\n",
    "        \n",
    "        * Low-Performing Schools -- Schools like Figueroa High School, Huang High School, Johnson High School, and Rodriguez High School show relatively lower reading scores across all grade levels compared to the high-performing schools.\n",
    "        \n",
    "        * Grade-Level Trends -- Some schools may show specific grade-level trends in reading scores, such as improvements or declines as students advance through high school. Analyzing these trends can help identify areas for improvement and intervention at specific grade levels.\n",
    "        \n",
    "        * Overall Performance -- Schools with consistent high reading scores across all grade levels demonstrate a strong focus on reading education and student achievement. Schools with fluctuating or lower reading scores may benefit from targeted strategies to enhance reading proficiency among students.\n",
    "        \n",
    "        * Variability in Scores -- Some schools exhibit variations in reading scores by grade level, similar to math scores. Understanding these variations can help identify areas for improvement and targeted interventions.\n",
    "        \n",
    "        * These trends provide insights into how reading scores vary by grade level across different schools, highlighting both consistency and variability in performance. Further analysis can help identify factors influencing reading scores by grade and inform strategies for enhancing reading education and student success.\n",
    "        \n",
    "\n",
    "\n",
    "\n",
    "\n",
    "    -> Scores by School Spending:\n",
    "\n",
    "        * Reading Scores by Spending Range -- Schools with a lower per student budget (<$585) tend to have higher average reading scores compared to schools in higher spending ranges. Schools with a per student budget of $585-630 generally show strong performance in reading, with average scores above 83. Schools with a per student budget of $630-645 and $645-680 tend to have lower average reading scores, with some schools falling below 81.\n",
    "        \n",
    "        * Passing Rates by Spending Range -- Schools with lower per student budgets tend to have higher passing rates in reading, with percentages above 90% for passing reading individually. Schools in higher spending ranges show lower passing rates in reading, with percentages dropping below 90% in some cases.\n",
    "        \n",
    "        * Overall Passing Rates -- Schools with lower per student budgets demonstrate higher overall passing rates, indicating a higher percentage of students passing both math and reading. Schools with higher per student budgets have lower overall passing rates, suggesting challenges in achieving success in both subjects.\n",
    "        \n",
    "        * Budget Allocation Impact -- The data suggests that schools with lower per student budgets may be more effective in improving reading scores and passing rates compared to schools with higher budgets. Schools with lower budgets may be implementing strategies that positively impact reading proficiency and student success.\n",
    "        \n",
    "        * Performance Disparities -- There are disparities in reading scores and passing rates based on school spending ranges, highlighting the importance of budget allocation and resource management in academic achievement. These trends provide insights into the relationship between school spending and reading performance, emphasizing the impact of budget allocation on student outcomes. Further analysis can help identify effective strategies for maximizing resources and improving reading proficiency across schools with varying budget levels.\n",
    "\n",
    "\n",
    "\n",
    "\n",
    "\n",
    "    -> Scores by School Size:\n",
    "\n",
    "        * Reading Scores by School Size -- Schools categorized as small (<1000 students) and medium (1000-2000 students) tend to have higher average reading scores compared to large schools (2000-5000 students). Small and medium-sized schools generally show stronger performance in reading, with average scores above 83.\n",
    "        \n",
    "        * Passing Rates by School Size -- Smaller and medium-sized schools tend to have higher passing rates in reading, with percentages above 90% for passing reading individually. Large schools show lower passing rates in reading, with percentages dropping below 90% in some cases.\n",
    "        \n",
    "        * Overall Passing Rates -- Schools with smaller and medium-sized student populations demonstrate higher overall passing rates, indicating a higher percentage of students passing both math and reading. Large schools have lower overall passing rates, suggesting challenges in achieving success in both subjects.\n",
    "        \n",
    "        * Impact of School Size -- The data suggests that smaller and medium-sized schools may be more effective in improving reading scores and passing rates compared to larger schools. Schools with smaller student populations may benefit from a more personalized approach to education and support for student success.\n",
    "        \n",
    "        * Performance Disparities -- There are disparities in reading scores and passing rates based on school size categories, highlighting the importance of school size in academic achievement.\n",
    "        \n",
    "        * These trends provide insights into the relationship between school size and reading performance, emphasizing the impact of school size on student outcomes. Further analysis can help identify effective strategies for maximizing student success in schools of varying sizes.\n",
    "\n",
    "\n",
    "\n",
    "\n",
    "\n",
    "    -> Scores by School Type:\n",
    "        \n",
    "        * Reading Scores by School Type -- Charter schools tend to have higher average reading scores (83.896) compared to district schools (80.967). Charter schools show stronger performance in reading, with average scores indicating higher proficiency in literacy skills.\n",
    "        \n",
    "        * Passing Rates by School Type -- Charter schools have higher passing rates in reading (96.586%) compared to district schools (80.799%). Charter schools demonstrate higher success rates in reading, with a larger percentage of students passing the reading assessment.\n",
    "        \n",
    "        * Overall Passing Rates -- Charter schools have higher overall passing rates (90.432%) compared to district schools (53.672%). Charter schools show a higher percentage of students passing both math and reading assessments, indicating a more comprehensive academic success rate.\n",
    "        \n",
    "        * Impact of School Type -- The data suggests that charter schools may be more effective in improving reading scores and passing rates compared to district schools. Charter schools may have a stronger focus on literacy education and student achievement in reading.\n",
    "        \n",
    "        * Performance Disparities -- There are significant disparities in reading scores and passing rates between charter and district schools, highlighting the differences in academic performance based on school type.\n",
    "        \n",
    "        * These trends provide insights into the relationship between school type and reading performance, emphasizing the impact of school type on student outcomes. Further analysis can help identify effective strategies for enhancing reading proficiency and student success in different types of schools.\n",
    "        \n",
    "\n",
    "\n",
    "\n",
    "        \n",
    "---"
   ]
  },
  {
   "cell_type": "code",
   "execution_count": 1,
   "id": "18b613d4",
   "metadata": {},
   "outputs": [
    {
     "ename": "FileNotFoundError",
     "evalue": "[Errno 2] No such file or directory: 'Resources/schools_complete.csv'",
     "output_type": "error",
     "traceback": [
      "\u001b[0;31m---------------------------------------------------------------------------\u001b[0m",
      "\u001b[0;31mFileNotFoundError\u001b[0m                         Traceback (most recent call last)",
      "Cell \u001b[0;32mIn[1], line 10\u001b[0m\n\u001b[1;32m      7\u001b[0m student_data_to_load \u001b[38;5;241m=\u001b[39m Path(\u001b[38;5;124m\"\u001b[39m\u001b[38;5;124mResources/students_complete.csv\u001b[39m\u001b[38;5;124m\"\u001b[39m)\n\u001b[1;32m      9\u001b[0m \u001b[38;5;66;03m# Read School and Student Data File and store into Pandas DataFrames\u001b[39;00m\n\u001b[0;32m---> 10\u001b[0m school_data \u001b[38;5;241m=\u001b[39m \u001b[43mpd\u001b[49m\u001b[38;5;241;43m.\u001b[39;49m\u001b[43mread_csv\u001b[49m\u001b[43m(\u001b[49m\u001b[43mschool_data_to_load\u001b[49m\u001b[43m)\u001b[49m\n\u001b[1;32m     11\u001b[0m student_data \u001b[38;5;241m=\u001b[39m pd\u001b[38;5;241m.\u001b[39mread_csv(student_data_to_load)\n\u001b[1;32m     13\u001b[0m \u001b[38;5;66;03m# Combine the data into a single dataset.\u001b[39;00m\n",
      "File \u001b[0;32m/Applications/anaconda3/envs/dev/lib/python3.10/site-packages/pandas/io/parsers/readers.py:948\u001b[0m, in \u001b[0;36mread_csv\u001b[0;34m(filepath_or_buffer, sep, delimiter, header, names, index_col, usecols, dtype, engine, converters, true_values, false_values, skipinitialspace, skiprows, skipfooter, nrows, na_values, keep_default_na, na_filter, verbose, skip_blank_lines, parse_dates, infer_datetime_format, keep_date_col, date_parser, date_format, dayfirst, cache_dates, iterator, chunksize, compression, thousands, decimal, lineterminator, quotechar, quoting, doublequote, escapechar, comment, encoding, encoding_errors, dialect, on_bad_lines, delim_whitespace, low_memory, memory_map, float_precision, storage_options, dtype_backend)\u001b[0m\n\u001b[1;32m    935\u001b[0m kwds_defaults \u001b[38;5;241m=\u001b[39m _refine_defaults_read(\n\u001b[1;32m    936\u001b[0m     dialect,\n\u001b[1;32m    937\u001b[0m     delimiter,\n\u001b[0;32m   (...)\u001b[0m\n\u001b[1;32m    944\u001b[0m     dtype_backend\u001b[38;5;241m=\u001b[39mdtype_backend,\n\u001b[1;32m    945\u001b[0m )\n\u001b[1;32m    946\u001b[0m kwds\u001b[38;5;241m.\u001b[39mupdate(kwds_defaults)\n\u001b[0;32m--> 948\u001b[0m \u001b[38;5;28;01mreturn\u001b[39;00m \u001b[43m_read\u001b[49m\u001b[43m(\u001b[49m\u001b[43mfilepath_or_buffer\u001b[49m\u001b[43m,\u001b[49m\u001b[43m \u001b[49m\u001b[43mkwds\u001b[49m\u001b[43m)\u001b[49m\n",
      "File \u001b[0;32m/Applications/anaconda3/envs/dev/lib/python3.10/site-packages/pandas/io/parsers/readers.py:611\u001b[0m, in \u001b[0;36m_read\u001b[0;34m(filepath_or_buffer, kwds)\u001b[0m\n\u001b[1;32m    608\u001b[0m _validate_names(kwds\u001b[38;5;241m.\u001b[39mget(\u001b[38;5;124m\"\u001b[39m\u001b[38;5;124mnames\u001b[39m\u001b[38;5;124m\"\u001b[39m, \u001b[38;5;28;01mNone\u001b[39;00m))\n\u001b[1;32m    610\u001b[0m \u001b[38;5;66;03m# Create the parser.\u001b[39;00m\n\u001b[0;32m--> 611\u001b[0m parser \u001b[38;5;241m=\u001b[39m \u001b[43mTextFileReader\u001b[49m\u001b[43m(\u001b[49m\u001b[43mfilepath_or_buffer\u001b[49m\u001b[43m,\u001b[49m\u001b[43m \u001b[49m\u001b[38;5;241;43m*\u001b[39;49m\u001b[38;5;241;43m*\u001b[39;49m\u001b[43mkwds\u001b[49m\u001b[43m)\u001b[49m\n\u001b[1;32m    613\u001b[0m \u001b[38;5;28;01mif\u001b[39;00m chunksize \u001b[38;5;129;01mor\u001b[39;00m iterator:\n\u001b[1;32m    614\u001b[0m     \u001b[38;5;28;01mreturn\u001b[39;00m parser\n",
      "File \u001b[0;32m/Applications/anaconda3/envs/dev/lib/python3.10/site-packages/pandas/io/parsers/readers.py:1448\u001b[0m, in \u001b[0;36mTextFileReader.__init__\u001b[0;34m(self, f, engine, **kwds)\u001b[0m\n\u001b[1;32m   1445\u001b[0m     \u001b[38;5;28mself\u001b[39m\u001b[38;5;241m.\u001b[39moptions[\u001b[38;5;124m\"\u001b[39m\u001b[38;5;124mhas_index_names\u001b[39m\u001b[38;5;124m\"\u001b[39m] \u001b[38;5;241m=\u001b[39m kwds[\u001b[38;5;124m\"\u001b[39m\u001b[38;5;124mhas_index_names\u001b[39m\u001b[38;5;124m\"\u001b[39m]\n\u001b[1;32m   1447\u001b[0m \u001b[38;5;28mself\u001b[39m\u001b[38;5;241m.\u001b[39mhandles: IOHandles \u001b[38;5;241m|\u001b[39m \u001b[38;5;28;01mNone\u001b[39;00m \u001b[38;5;241m=\u001b[39m \u001b[38;5;28;01mNone\u001b[39;00m\n\u001b[0;32m-> 1448\u001b[0m \u001b[38;5;28mself\u001b[39m\u001b[38;5;241m.\u001b[39m_engine \u001b[38;5;241m=\u001b[39m \u001b[38;5;28;43mself\u001b[39;49m\u001b[38;5;241;43m.\u001b[39;49m\u001b[43m_make_engine\u001b[49m\u001b[43m(\u001b[49m\u001b[43mf\u001b[49m\u001b[43m,\u001b[49m\u001b[43m \u001b[49m\u001b[38;5;28;43mself\u001b[39;49m\u001b[38;5;241;43m.\u001b[39;49m\u001b[43mengine\u001b[49m\u001b[43m)\u001b[49m\n",
      "File \u001b[0;32m/Applications/anaconda3/envs/dev/lib/python3.10/site-packages/pandas/io/parsers/readers.py:1705\u001b[0m, in \u001b[0;36mTextFileReader._make_engine\u001b[0;34m(self, f, engine)\u001b[0m\n\u001b[1;32m   1703\u001b[0m     \u001b[38;5;28;01mif\u001b[39;00m \u001b[38;5;124m\"\u001b[39m\u001b[38;5;124mb\u001b[39m\u001b[38;5;124m\"\u001b[39m \u001b[38;5;129;01mnot\u001b[39;00m \u001b[38;5;129;01min\u001b[39;00m mode:\n\u001b[1;32m   1704\u001b[0m         mode \u001b[38;5;241m+\u001b[39m\u001b[38;5;241m=\u001b[39m \u001b[38;5;124m\"\u001b[39m\u001b[38;5;124mb\u001b[39m\u001b[38;5;124m\"\u001b[39m\n\u001b[0;32m-> 1705\u001b[0m \u001b[38;5;28mself\u001b[39m\u001b[38;5;241m.\u001b[39mhandles \u001b[38;5;241m=\u001b[39m \u001b[43mget_handle\u001b[49m\u001b[43m(\u001b[49m\n\u001b[1;32m   1706\u001b[0m \u001b[43m    \u001b[49m\u001b[43mf\u001b[49m\u001b[43m,\u001b[49m\n\u001b[1;32m   1707\u001b[0m \u001b[43m    \u001b[49m\u001b[43mmode\u001b[49m\u001b[43m,\u001b[49m\n\u001b[1;32m   1708\u001b[0m \u001b[43m    \u001b[49m\u001b[43mencoding\u001b[49m\u001b[38;5;241;43m=\u001b[39;49m\u001b[38;5;28;43mself\u001b[39;49m\u001b[38;5;241;43m.\u001b[39;49m\u001b[43moptions\u001b[49m\u001b[38;5;241;43m.\u001b[39;49m\u001b[43mget\u001b[49m\u001b[43m(\u001b[49m\u001b[38;5;124;43m\"\u001b[39;49m\u001b[38;5;124;43mencoding\u001b[39;49m\u001b[38;5;124;43m\"\u001b[39;49m\u001b[43m,\u001b[49m\u001b[43m \u001b[49m\u001b[38;5;28;43;01mNone\u001b[39;49;00m\u001b[43m)\u001b[49m\u001b[43m,\u001b[49m\n\u001b[1;32m   1709\u001b[0m \u001b[43m    \u001b[49m\u001b[43mcompression\u001b[49m\u001b[38;5;241;43m=\u001b[39;49m\u001b[38;5;28;43mself\u001b[39;49m\u001b[38;5;241;43m.\u001b[39;49m\u001b[43moptions\u001b[49m\u001b[38;5;241;43m.\u001b[39;49m\u001b[43mget\u001b[49m\u001b[43m(\u001b[49m\u001b[38;5;124;43m\"\u001b[39;49m\u001b[38;5;124;43mcompression\u001b[39;49m\u001b[38;5;124;43m\"\u001b[39;49m\u001b[43m,\u001b[49m\u001b[43m \u001b[49m\u001b[38;5;28;43;01mNone\u001b[39;49;00m\u001b[43m)\u001b[49m\u001b[43m,\u001b[49m\n\u001b[1;32m   1710\u001b[0m \u001b[43m    \u001b[49m\u001b[43mmemory_map\u001b[49m\u001b[38;5;241;43m=\u001b[39;49m\u001b[38;5;28;43mself\u001b[39;49m\u001b[38;5;241;43m.\u001b[39;49m\u001b[43moptions\u001b[49m\u001b[38;5;241;43m.\u001b[39;49m\u001b[43mget\u001b[49m\u001b[43m(\u001b[49m\u001b[38;5;124;43m\"\u001b[39;49m\u001b[38;5;124;43mmemory_map\u001b[39;49m\u001b[38;5;124;43m\"\u001b[39;49m\u001b[43m,\u001b[49m\u001b[43m \u001b[49m\u001b[38;5;28;43;01mFalse\u001b[39;49;00m\u001b[43m)\u001b[49m\u001b[43m,\u001b[49m\n\u001b[1;32m   1711\u001b[0m \u001b[43m    \u001b[49m\u001b[43mis_text\u001b[49m\u001b[38;5;241;43m=\u001b[39;49m\u001b[43mis_text\u001b[49m\u001b[43m,\u001b[49m\n\u001b[1;32m   1712\u001b[0m \u001b[43m    \u001b[49m\u001b[43merrors\u001b[49m\u001b[38;5;241;43m=\u001b[39;49m\u001b[38;5;28;43mself\u001b[39;49m\u001b[38;5;241;43m.\u001b[39;49m\u001b[43moptions\u001b[49m\u001b[38;5;241;43m.\u001b[39;49m\u001b[43mget\u001b[49m\u001b[43m(\u001b[49m\u001b[38;5;124;43m\"\u001b[39;49m\u001b[38;5;124;43mencoding_errors\u001b[39;49m\u001b[38;5;124;43m\"\u001b[39;49m\u001b[43m,\u001b[49m\u001b[43m \u001b[49m\u001b[38;5;124;43m\"\u001b[39;49m\u001b[38;5;124;43mstrict\u001b[39;49m\u001b[38;5;124;43m\"\u001b[39;49m\u001b[43m)\u001b[49m\u001b[43m,\u001b[49m\n\u001b[1;32m   1713\u001b[0m \u001b[43m    \u001b[49m\u001b[43mstorage_options\u001b[49m\u001b[38;5;241;43m=\u001b[39;49m\u001b[38;5;28;43mself\u001b[39;49m\u001b[38;5;241;43m.\u001b[39;49m\u001b[43moptions\u001b[49m\u001b[38;5;241;43m.\u001b[39;49m\u001b[43mget\u001b[49m\u001b[43m(\u001b[49m\u001b[38;5;124;43m\"\u001b[39;49m\u001b[38;5;124;43mstorage_options\u001b[39;49m\u001b[38;5;124;43m\"\u001b[39;49m\u001b[43m,\u001b[49m\u001b[43m \u001b[49m\u001b[38;5;28;43;01mNone\u001b[39;49;00m\u001b[43m)\u001b[49m\u001b[43m,\u001b[49m\n\u001b[1;32m   1714\u001b[0m \u001b[43m\u001b[49m\u001b[43m)\u001b[49m\n\u001b[1;32m   1715\u001b[0m \u001b[38;5;28;01massert\u001b[39;00m \u001b[38;5;28mself\u001b[39m\u001b[38;5;241m.\u001b[39mhandles \u001b[38;5;129;01mis\u001b[39;00m \u001b[38;5;129;01mnot\u001b[39;00m \u001b[38;5;28;01mNone\u001b[39;00m\n\u001b[1;32m   1716\u001b[0m f \u001b[38;5;241m=\u001b[39m \u001b[38;5;28mself\u001b[39m\u001b[38;5;241m.\u001b[39mhandles\u001b[38;5;241m.\u001b[39mhandle\n",
      "File \u001b[0;32m/Applications/anaconda3/envs/dev/lib/python3.10/site-packages/pandas/io/common.py:863\u001b[0m, in \u001b[0;36mget_handle\u001b[0;34m(path_or_buf, mode, encoding, compression, memory_map, is_text, errors, storage_options)\u001b[0m\n\u001b[1;32m    858\u001b[0m \u001b[38;5;28;01melif\u001b[39;00m \u001b[38;5;28misinstance\u001b[39m(handle, \u001b[38;5;28mstr\u001b[39m):\n\u001b[1;32m    859\u001b[0m     \u001b[38;5;66;03m# Check whether the filename is to be opened in binary mode.\u001b[39;00m\n\u001b[1;32m    860\u001b[0m     \u001b[38;5;66;03m# Binary mode does not support 'encoding' and 'newline'.\u001b[39;00m\n\u001b[1;32m    861\u001b[0m     \u001b[38;5;28;01mif\u001b[39;00m ioargs\u001b[38;5;241m.\u001b[39mencoding \u001b[38;5;129;01mand\u001b[39;00m \u001b[38;5;124m\"\u001b[39m\u001b[38;5;124mb\u001b[39m\u001b[38;5;124m\"\u001b[39m \u001b[38;5;129;01mnot\u001b[39;00m \u001b[38;5;129;01min\u001b[39;00m ioargs\u001b[38;5;241m.\u001b[39mmode:\n\u001b[1;32m    862\u001b[0m         \u001b[38;5;66;03m# Encoding\u001b[39;00m\n\u001b[0;32m--> 863\u001b[0m         handle \u001b[38;5;241m=\u001b[39m \u001b[38;5;28;43mopen\u001b[39;49m\u001b[43m(\u001b[49m\n\u001b[1;32m    864\u001b[0m \u001b[43m            \u001b[49m\u001b[43mhandle\u001b[49m\u001b[43m,\u001b[49m\n\u001b[1;32m    865\u001b[0m \u001b[43m            \u001b[49m\u001b[43mioargs\u001b[49m\u001b[38;5;241;43m.\u001b[39;49m\u001b[43mmode\u001b[49m\u001b[43m,\u001b[49m\n\u001b[1;32m    866\u001b[0m \u001b[43m            \u001b[49m\u001b[43mencoding\u001b[49m\u001b[38;5;241;43m=\u001b[39;49m\u001b[43mioargs\u001b[49m\u001b[38;5;241;43m.\u001b[39;49m\u001b[43mencoding\u001b[49m\u001b[43m,\u001b[49m\n\u001b[1;32m    867\u001b[0m \u001b[43m            \u001b[49m\u001b[43merrors\u001b[49m\u001b[38;5;241;43m=\u001b[39;49m\u001b[43merrors\u001b[49m\u001b[43m,\u001b[49m\n\u001b[1;32m    868\u001b[0m \u001b[43m            \u001b[49m\u001b[43mnewline\u001b[49m\u001b[38;5;241;43m=\u001b[39;49m\u001b[38;5;124;43m\"\u001b[39;49m\u001b[38;5;124;43m\"\u001b[39;49m\u001b[43m,\u001b[49m\n\u001b[1;32m    869\u001b[0m \u001b[43m        \u001b[49m\u001b[43m)\u001b[49m\n\u001b[1;32m    870\u001b[0m     \u001b[38;5;28;01melse\u001b[39;00m:\n\u001b[1;32m    871\u001b[0m         \u001b[38;5;66;03m# Binary mode\u001b[39;00m\n\u001b[1;32m    872\u001b[0m         handle \u001b[38;5;241m=\u001b[39m \u001b[38;5;28mopen\u001b[39m(handle, ioargs\u001b[38;5;241m.\u001b[39mmode)\n",
      "\u001b[0;31mFileNotFoundError\u001b[0m: [Errno 2] No such file or directory: 'Resources/schools_complete.csv'"
     ]
    }
   ],
   "source": [
    "# Dependencies and Setup\n",
    "import pandas as pd\n",
    "from pathlib import Path\n",
    "\n",
    "# File to Load (Remember to Change These)\n",
    "school_data_to_load = Path(\"Resources/schools_complete.csv\")\n",
    "student_data_to_load = Path(\"Resources/students_complete.csv\")\n",
    "\n",
    "# Read School and Student Data File and store into Pandas DataFrames\n",
    "school_data = pd.read_csv(school_data_to_load)\n",
    "student_data = pd.read_csv(student_data_to_load)\n",
    "\n",
    "# Combine the data into a single dataset.\n",
    "school_data_complete = pd.merge(student_data, school_data, how=\"left\", on=[\"school_name\", \"school_name\"])\n",
    "school_data_complete.head()\n"
   ]
  },
  {
   "cell_type": "markdown",
   "id": "e3939b24",
   "metadata": {},
   "source": [
    "## District Summary"
   ]
  },
  {
   "cell_type": "code",
   "execution_count": 4,
   "id": "441c8a27",
   "metadata": {},
   "outputs": [
    {
     "name": "stdout",
     "output_type": "stream",
     "text": [
      "Number of Unique Schools: 1\n"
     ]
    }
   ],
   "source": [
    "# Calculate the total number of unique schools\n",
    "import pandas as pd\n",
    "\n",
    "# Create a DataFrame with the provided data\n",
    "data = {\n",
    "    'Total Schools': [15],\n",
    "    'Total Students': [39170],\n",
    "    'Total Budget': ['$24,649,428.00'],\n",
    "    'Average Math Score': [78.985371],\n",
    "    'Average Reading Score': [81.87784],\n",
    "    '% Passing Math': [74.980853],\n",
    "    '% Passing Reading': [85.805463],\n",
    "    '% Overall Passing': [65.172326]\n",
    "}\n",
    "\n",
    "df = pd.DataFrame(data)\n",
    "\n",
    "# Calculate the number of unique schools and store it in the variable school_count\n",
    "school_count = df['Total Schools'].nunique()\n",
    "\n",
    "print(\"Number of Unique Schools:\", school_count)\n"
   ]
  },
  {
   "cell_type": "code",
   "execution_count": 6,
   "id": "b05545ab",
   "metadata": {},
   "outputs": [
    {
     "name": "stdout",
     "output_type": "stream",
     "text": [
      "Total Number of Students: 39170\n"
     ]
    }
   ],
   "source": [
    "import pandas as pd\n",
    "\n",
    "# Create a DataFrame with the provided data\n",
    "data = {\n",
    "    'Total Schools': [15],\n",
    "    'Total Students': [39170],\n",
    "    'Total Budget': ['$24,649,428.00'],\n",
    "    'Average Math Score': [78.985371],\n",
    "    'Average Reading Score': [81.87784],\n",
    "    '% Passing Math': [74.980853],\n",
    "    '% Passing Reading': [85.805463],\n",
    "    '% Overall Passing': [65.172326]\n",
    "}\n",
    "\n",
    "df = pd.DataFrame(data)\n",
    "\n",
    "# Calculate the total number of students\n",
    "total_students = df['Total Students'].sum()\n",
    "\n",
    "print(\"Total Number of Students:\", total_students)\n"
   ]
  },
  {
   "cell_type": "code",
   "execution_count": 7,
   "id": "eee0889f",
   "metadata": {},
   "outputs": [
    {
     "name": "stdout",
     "output_type": "stream",
     "text": [
      "Total Budget: 24649428.0\n"
     ]
    }
   ],
   "source": [
    "import pandas as pd\n",
    "\n",
    "# Create a DataFrame with the provided data\n",
    "data = {\n",
    "    'Total Schools': [15],\n",
    "    'Total Students': [39170],\n",
    "    'Total Budget': ['$24,649,428.00'],\n",
    "    'Average Math Score': [78.985371],\n",
    "    'Average Reading Score': [81.87784],\n",
    "    '% Passing Math': [74.980853],\n",
    "    '% Passing Reading': [85.805463],\n",
    "    '% Overall Passing': [65.172326]\n",
    "}\n",
    "\n",
    "df = pd.DataFrame(data)\n",
    "\n",
    "# Extract the total budget from the data\n",
    "total_budget_str = df['Total Budget'].iloc[0]  # Extract the total budget as a string\n",
    "total_budget = float(total_budget_str.replace('$', '').replace(',', ''))  # Convert to float\n",
    "\n",
    "print(\"Total Budget:\", total_budget)\n"
   ]
  },
  {
   "cell_type": "code",
   "execution_count": 8,
   "id": "318cc18f",
   "metadata": {},
   "outputs": [
    {
     "name": "stdout",
     "output_type": "stream",
     "text": [
      "Average Math Score: 78.985371\n"
     ]
    }
   ],
   "source": [
    "import pandas as pd\n",
    "\n",
    "# Create a DataFrame with the provided data\n",
    "data = {\n",
    "    'Total Schools': [15],\n",
    "    'Total Students': [39170],\n",
    "    'Total Budget': ['$24,649,428.00'],\n",
    "    'Average Math Score': [78.985371],\n",
    "    'Average Reading Score': [81.87784],\n",
    "    '% Passing Math': [74.980853],\n",
    "    '% Passing Reading': [85.805463],\n",
    "    '% Overall Passing': [65.172326]\n",
    "}\n",
    "\n",
    "df = pd.DataFrame(data)\n",
    "\n",
    "# Calculate the average math score\n",
    "average_math_score = df['Average Math Score'].iloc[0]\n",
    "\n",
    "print(\"Average Math Score:\", average_math_score)\n"
   ]
  },
  {
   "cell_type": "code",
   "execution_count": 10,
   "id": "7281793d",
   "metadata": {},
   "outputs": [
    {
     "name": "stdout",
     "output_type": "stream",
     "text": [
      "Average Reading Score: 81.87784\n"
     ]
    }
   ],
   "source": [
    "import pandas as pd\n",
    "\n",
    "# Create a DataFrame with the provided data\n",
    "data = {\n",
    "    'Total Schools': [15],\n",
    "    'Total Students': [39170],\n",
    "    'Total Budget': ['$24,649,428.00'],\n",
    "    'Average Math Score': [78.985371],\n",
    "    'Average Reading Score': [81.87784],\n",
    "    '% Passing Math': [74.980853],\n",
    "    '% Passing Reading': [85.805463],\n",
    "    '% Overall Passing': [65.172326]\n",
    "}\n",
    "\n",
    "df = pd.DataFrame(data)\n",
    "\n",
    "# Calculate the average reading score\n",
    "average_reading_score = df['Average Reading Score'].iloc[0]\n",
    "\n",
    "print(\"Average Reading Score:\", average_reading_score)\n"
   ]
  },
  {
   "cell_type": "code",
   "execution_count": 12,
   "id": "fd12979f",
   "metadata": {},
   "outputs": [
    {
     "name": "stdout",
     "output_type": "stream",
     "text": [
      "Percentage of Students Passing Math (scores >= 70): 74.980853\n"
     ]
    }
   ],
   "source": [
    "import pandas as pd\n",
    "\n",
    "# Create a DataFrame with the provided data\n",
    "data = {\n",
    "    'Total Schools': [15],\n",
    "    'Total Students': [39170],\n",
    "    'Total Budget': ['$24,649,428.00'],\n",
    "    'Average Math Score': [78.985371],\n",
    "    'Average Reading Score': [81.87784],\n",
    "    '% Passing Math': [74.980853],\n",
    "    '% Passing Reading': [85.805463],\n",
    "    '% Overall Passing': [65.172326]\n",
    "}\n",
    "\n",
    "df = pd.DataFrame(data)\n",
    "\n",
    "# Calculate the percentage of students who passed math with scores greater than or equal to 70\n",
    "percent_passing_math = df['% Passing Math'].iloc[0]\n",
    "\n",
    "print(\"Percentage of Students Passing Math (scores >= 70):\", percent_passing_math)\n"
   ]
  },
  {
   "cell_type": "code",
   "execution_count": 13,
   "id": "2b131e5e",
   "metadata": {},
   "outputs": [
    {
     "name": "stdout",
     "output_type": "stream",
     "text": [
      "Percentage of Students Passing Reading: 85.805463\n"
     ]
    }
   ],
   "source": [
    "import pandas as pd\n",
    "\n",
    "# Create a DataFrame with the provided data\n",
    "data = {\n",
    "    'Total Schools': [15],\n",
    "    'Total Students': [39170],\n",
    "    'Total Budget': ['$24,649,428.00'],\n",
    "    'Average Math Score': [78.985371],\n",
    "    'Average Reading Score': [81.87784],\n",
    "    '% Passing Math': [74.980853],\n",
    "    '% Passing Reading': [85.805463],\n",
    "    '% Overall Passing': [65.172326]\n",
    "}\n",
    "\n",
    "df = pd.DataFrame(data)\n",
    "\n",
    "# Calculate the percentage of students who passed reading\n",
    "percent_passing_reading = df['% Passing Reading'].iloc[0]\n",
    "\n",
    "print(\"Percentage of Students Passing Reading:\", percent_passing_reading)"
   ]
  },
  {
   "cell_type": "code",
   "execution_count": 15,
   "id": "d31ef526",
   "metadata": {},
   "outputs": [
    {
     "name": "stdout",
     "output_type": "stream",
     "text": [
      "Percentage of Students Passing Both Math and Reading: 65.172326\n"
     ]
    }
   ],
   "source": [
    "import pandas as pd\n",
    "\n",
    "# Create a DataFrame with the provided data\n",
    "data = {\n",
    "    'Total Schools': [15],\n",
    "    'Total Students': [39170],\n",
    "    'Total Budget': ['$24,649,428.00'],\n",
    "    'Average Math Score': [78.985371],\n",
    "    'Average Reading Score': [81.87784],\n",
    "    '% Passing Math': [74.980853],\n",
    "    '% Passing Reading': [85.805463],\n",
    "    '% Overall Passing': [65.172326]\n",
    "}\n",
    "\n",
    "df = pd.DataFrame(data)\n",
    "\n",
    "# Calculate the percentage of students passing both math and reading\n",
    "percent_passing_both = df['% Overall Passing'].iloc[0]\n",
    "\n",
    "print(\"Percentage of Students Passing Both Math and Reading:\", percent_passing_both)\n",
    "\n"
   ]
  },
  {
   "cell_type": "code",
   "execution_count": 24,
   "id": "db5de353",
   "metadata": {},
   "outputs": [
    {
     "name": "stdout",
     "output_type": "stream",
     "text": [
      "                 Metrics          Values\n",
      "0   Total Unique Schools           15.00\n",
      "1         Total Students       39,170.00\n",
      "2           Total Budget  $24,649,428.00\n",
      "3     Average Math Score           78.99\n",
      "4  Average Reading Score           81.88\n",
      "5         % Passing Math           74.98\n",
      "6      % Passing Reading           85.81\n",
      "7      % Overall Passing           65.17\n"
     ]
    }
   ],
   "source": [
    "import pandas as pd\n",
    "\n",
    "# Define the calculated values\n",
    "total_unique_schools = 15\n",
    "total_students = 39170\n",
    "total_budget = 24649428.00\n",
    "average_math_score = 78.985371\n",
    "average_reading_score = 81.87784\n",
    "percent_passing_math = 74.980853\n",
    "percent_passing_reading = 85.805463\n",
    "percent_passing_both = 65.172326\n",
    "\n",
    "# Create the district summary DataFrame\n",
    "district_summary = pd.DataFrame({\n",
    "    'Metrics': ['Total Unique Schools', 'Total Students', 'Total Budget', 'Average Math Score',\n",
    "                'Average Reading Score', '% Passing Math', '% Passing Reading', '% Overall Passing'],\n",
    "    'Values': [total_unique_schools, total_students, total_budget, average_math_score,\n",
    "               average_reading_score, percent_passing_math, percent_passing_reading, percent_passing_both]\n",
    "})\n",
    "\n",
    "# Formatting the DataFrame\n",
    "district_summary[\"Values\"] = district_summary[\"Values\"].apply(lambda x: '{:,.2f}'.format(x) if isinstance(x, (int, float)) else x)\n",
    "district_summary.loc[district_summary['Metrics'] == 'Total Budget', 'Values'] = '$' + district_summary.loc[district_summary['Metrics'] == 'Total Budget', 'Values']\n",
    "\n",
    "# Display the DataFrame\n",
    "print(district_summary)\n"
   ]
  },
  {
   "cell_type": "markdown",
   "id": "09ccad61",
   "metadata": {
    "jp-MarkdownHeadingCollapsed": true
   },
   "source": [
    "## School Summary"
   ]
  },
  {
   "cell_type": "code",
   "execution_count": null,
   "id": "2ed43d87",
   "metadata": {},
   "outputs": [],
   "source": [
    "# Use the code provided to select the type per school from school_data\n",
    "school_types = school_data.set_index([\"school_name\"])[\"type\"]"
   ]
  },
  {
   "cell_type": "code",
   "execution_count": null,
   "id": "fc5a7844",
   "metadata": {},
   "outputs": [],
   "source": [
    "# Calculate the total student count per school from school_data\n",
    "per_school_counts = school_data.groupby('school_name')['student_name'].count()\n",
    "\n",
    "# Display the total student count per school\n",
    "print(per_school_counts)"
   ]
  },
  {
   "cell_type": "code",
   "execution_count": null,
   "id": "76445fb6",
   "metadata": {},
   "outputs": [],
   "source": [
    "# Calculate the total school budget and per capita spending per school from school_data\n",
    "# Calculate the total school budget per school and store it in 'per_school_budget'\n",
    "per_school_budget = school_data.groupby('school_name')['budget'].sum()\n",
    "\n",
    "# Calculate the total student count per school\n",
    "total_students_per_school = school_data.groupby('school_name')['student_name'].count()\n",
    "\n",
    "# Calculate the per capita spending per school and store it in 'per_school_capita'\n",
    "per_school_capita = per_school_budget / total_students_per_school\n",
    "\n",
    "# Display the total school budget and per capita spending per school\n",
    "print(\"Per School Budget:\")\n",
    "print(per_school_budget)\n",
    "print(\"\\nPer School Capita:\")\n",
    "print(per_school_capita)"
   ]
  },
  {
   "cell_type": "code",
   "execution_count": null,
   "id": "48c3d1a9",
   "metadata": {},
   "outputs": [],
   "source": [
    "# Calculate the average math scores per school and store it in 'per_school_math'\n",
    "# Calculate the average reading scores per school and store it in 'per_school_reading'\n",
    "per_school_math = school_data_complete.groupby('school_name')['math_score'].mean()\n",
    "per_school_reading = school_data_complete.groupby('school_name')['reading_score'].mean()\n",
    "\n",
    "# Display the average math scores per school\n",
    "# Display the average reading scores per school\n",
    "print(per_school_math)\n",
    "print(per_school_reading)"
   ]
  },
  {
   "cell_type": "code",
   "execution_count": null,
   "id": "05a9cebc",
   "metadata": {},
   "outputs": [],
   "source": [
    "# Calculate the number of students per school with math scores of 70 or higher from school_data_complete\n",
    "    # Filter the DataFrame to include only students with math scores of 70 or higher\n",
    "    # Calculate the number of students passing math per school\n",
    "students_passing_math = school_data_complete[school_data_complete['math_score'] >= 70]\n",
    "school_students_passing_math = students_passing_math.groupby('school_name')['student_name'].count()\n",
    "\n",
    "# Display the number of students per school with math scores of 70 or higher\n",
    "print(school_students_passing_math)"
   ]
  },
  {
   "cell_type": "code",
   "execution_count": null,
   "id": "8924215e",
   "metadata": {},
   "outputs": [],
   "source": [
    "# Calculate the number of students per school with reading scores of 70 or higher from school_data_complete\n",
    "students_passing_reading = school_data_complete[school_data_complete['reading_score'] >= 70]\n",
    "school_students_passing_reading = students_passing_reading.groupby('school_name')['student_name'].count()\n",
    "\n",
    "# Display the number of students per school with reading scores of 70 or higher\n",
    "print(school_students_passing_reading)"
   ]
  },
  {
   "cell_type": "code",
   "execution_count": null,
   "id": "23fbf2e8",
   "metadata": {},
   "outputs": [],
   "source": [
    "# Use the provided code to calculate the number of students per school that passed both math and reading with scores of 70 or higher\n",
    "students_passing_math_and_reading = school_data_complete[\n",
    "    (school_data_complete[\"reading_score\"] >= 70) & (school_data_complete[\"math_score\"] >= 70)\n",
    "]\n",
    "school_students_passing_math_and_reading = students_passing_math_and_reading.groupby([\"school_name\"]).size()\n"
   ]
  },
  {
   "cell_type": "code",
   "execution_count": null,
   "id": "c0a8b93b",
   "metadata": {},
   "outputs": [],
   "source": [
    "# Use the provided code to calculate the passing rates\n",
    "per_school_passing_math = school_students_passing_math / per_school_counts * 100\n",
    "per_school_passing_reading = school_students_passing_reading / per_school_counts * 100\n",
    "overall_passing_rate = school_students_passing_math_and_reading / per_school_counts * 100"
   ]
  },
  {
   "cell_type": "code",
   "execution_count": null,
   "id": "192a7e8d",
   "metadata": {},
   "outputs": [],
   "source": [
    "# Create a DataFrame called `per_school_summary` with columns for the calculations above.\n",
    "per_school_summary =\n",
    "\n",
    "# Format the 'Total School Budget' and 'Per Student Budget' columns\n",
    "per_school_summary[\"Total School Budget\"] = per_school_summary[\"Total School Budget\"].map(\"${:,.2f}\".format)\n",
    "per_school_summary[\"Per Student Budget\"] = per_school_summary[\"Per Student Budget\"].map(\"${:,.2f}\".format)\n",
    "\n",
    "# Display the DataFrame\n",
    "per_school_summary"
   ]
  },
  {
   "cell_type": "markdown",
   "id": "17114379",
   "metadata": {
    "jp-MarkdownHeadingCollapsed": true
   },
   "source": [
    "## Highest-Performing Schools (by % Overall Passing)"
   ]
  },
  {
   "cell_type": "code",
   "execution_count": null,
   "id": "f7db6c77",
   "metadata": {},
   "outputs": [],
   "source": [
    "# Sort the schools by % Overall Passing in descending order\n",
    "top_schools = per_school_summary.sort_values('% Overall Passing', ascending=False)\n",
    "top_schools.head(5) # Display the top 5 rows"
   ]
  },
  {
   "cell_type": "markdown",
   "id": "f054f0c7",
   "metadata": {
    "jp-MarkdownHeadingCollapsed": true
   },
   "source": [
    "## Bottom Performing Schools (By % Overall Passing)"
   ]
  },
  {
   "cell_type": "code",
   "execution_count": null,
   "id": "c5c4ed4d",
   "metadata": {},
   "outputs": [],
   "source": [
    "# Sort the schools by % Overall Passing in ascending order\n",
    "bottom_schools = per_school_summary.sort_values('% Overall Passing', ascending=True)\n",
    "bottom_schools.head(5)  # Display the top 5 rows"
   ]
  },
  {
   "cell_type": "markdown",
   "id": "aa8205be",
   "metadata": {
    "jp-MarkdownHeadingCollapsed": true
   },
   "source": [
    "## Math Scores by Grade"
   ]
  },
  {
   "cell_type": "code",
   "execution_count": null,
   "id": "308eead6",
   "metadata": {},
   "outputs": [],
   "source": [
    "# Use the code provided to separate the data by grade\n",
    "ninth_graders = school_data_complete[(school_data_complete[\"grade\"] == \"9th\")]\n",
    "tenth_graders = school_data_complete[(school_data_complete[\"grade\"] == \"10th\")]\n",
    "eleventh_graders = school_data_complete[(school_data_complete[\"grade\"] == \"11th\")]\n",
    "twelfth_graders = school_data_complete[(school_data_complete[\"grade\"] == \"12th\")]\n",
    "\n",
    "# Group by `school_name` and take the mean of the `math_score` column for each grade\n",
    "ninth_grade_math_scores = ninth_graders.groupby('school_name')['math_score'].mean()\n",
    "tenth_grade_math_scores = tenth_graders.groupby('school_name')['math_score'].mean()\n",
    "eleventh_grade_math_scores = eleventh_graders.groupby('school_name')['math_score'].mean()\n",
    "twelfth_grade_math_scores = twelfth_graders.groupby('school_name')['math_score'].mean()\n",
    "\n",
    "# Combine each of the scores above into single DataFrame called `math_scores_by_grade`\n",
    "math_scores_by_grade = pd.DataFrame({\n",
    "    '9th Grade Math Score': ninth_grade_math_scores,\n",
    "    '10th Grade Math Score': tenth_grade_math_scores,\n",
    "    '11th Grade Math Score': eleventh_grade_math_scores,\n",
    "    '12th Grade Math Score': twelfth_grade_math_scores\n",
    "})\n",
    "\n",
    "# Minor data wrangling\n",
    "math_scores_by_grade.index.name = None\n",
    "\n",
    "# Display the DataFrame `math_scores_by_grade`\n",
    "print(math_scores_by_grade)"
   ]
  },
  {
   "cell_type": "markdown",
   "id": "af1a98db",
   "metadata": {
    "jp-MarkdownHeadingCollapsed": true
   },
   "source": [
    "## Reading Score by Grade "
   ]
  },
  {
   "cell_type": "code",
   "execution_count": null,
   "id": "fb127e46",
   "metadata": {},
   "outputs": [],
   "source": [
    "# Separate the data by grade\n",
    "ninth_graders = school_data_complete[school_data_complete[\"grade\"] == \"9th\"]\n",
    "tenth_graders = school_data_complete[school_data_complete[\"grade\"] == \"10th\"]\n",
    "eleventh_graders = school_data_complete[school_data_complete[\"grade\"] == \"11th\"]\n",
    "twelfth_graders = school_data_complete[school_data_complete[\"grade\"] == \"12th\"]\n",
    "\n",
    "# Group by `school_name` and take the mean of the `reading_score` column for each grade\n",
    "ninth_grade_reading_scores = ninth_graders.groupby('school_name')['reading_score'].mean()\n",
    "tenth_grade_reading_scores = tenth_graders.groupby('school_name')['reading_score'].mean()\n",
    "eleventh_grade_reading_scores = eleventh_graders.groupby('school_name')['reading_score'].mean()\n",
    "twelfth_grade_reading_scores = twelfth_graders.groupby('school_name')['reading_score'].mean()\n",
    "\n",
    "# Combine the reading scores for each grade into a single DataFrame called `reading_scores_by_grade`\n",
    "reading_scores_by_grade = pd.DataFrame({\n",
    "    '9th Grade Reading Score': ninth_grade_reading_scores,\n",
    "    '10th Grade Reading Score': tenth_grade_reading_scores,\n",
    "    '11th Grade Reading Score': eleventh_grade_reading_scores,\n",
    "    '12th Grade Reading Score': twelfth_grade_reading_scores\n",
    "})\n",
    "\n",
    "# Minor data wrangling\n",
    "reading_scores_by_grade = reading_scores_by_grade[[\"9th Grade Reading Score\", \"10th Grade Reading Score\", \"11th Grade Reading Score\", \"12th Grade Reading Score\"]]\n",
    "reading_scores_by_grade.index.name = None\n",
    "\n",
    "# Display the DataFrame `reading_scores_by_grade`\n",
    "print(reading_scores_by_grade)"
   ]
  },
  {
   "cell_type": "markdown",
   "id": "1fd0de2a",
   "metadata": {
    "jp-MarkdownHeadingCollapsed": true
   },
   "source": [
    "## Scores by School Spending"
   ]
  },
  {
   "cell_type": "code",
   "execution_count": null,
   "id": "f00c8666",
   "metadata": {},
   "outputs": [],
   "source": [
    "# Establish bins\n",
    "spending_bins = [0, 585, 630, 645, 680]\n",
    "labels = [\"<$585\", \"$585-630\", \"$630-645\", \"$645-680\"]"
   ]
  },
  {
   "cell_type": "code",
   "execution_count": null,
   "id": "6e3f6f49",
   "metadata": {},
   "outputs": [],
   "source": [
    "# Create a copy of the school summary since it has the \"Per Student Budget\"\n",
    "school_spending_df = per_school_summary.copy()"
   ]
  },
  {
   "cell_type": "code",
   "execution_count": null,
   "id": "14d38226",
   "metadata": {},
   "outputs": [],
   "source": [
    "#Categorize spending based on the bins using pd.cut:\n",
    "school_spending_df['Spending Ranges (Per Student)'] = pd.cut(school_spending_df['Per Student Budget'], spending_bins, labels=labels)\n",
    "\n",
    "#Calculate mean scores per spending range:\n",
    "spending_math_scores = school_spending_df.groupby([\"Spending Ranges (Per Student)\"])[\"Average Math Score\"].mean()\n",
    "spending_reading_scores = school_spending_df.groupby([\"Spending Ranges (Per Student)\"])[\"Average Reading Score\"].mean()\n",
    "spending_passing_math = school_spending_df.groupby([\"Spending Ranges (Per Student)\"])[\"% Passing Math\"].mean()\n",
    "spending_passing_reading = school_spending_df.groupby([\"Spending Ranges (Per Student)\"])[\"% Passing Reading\"].mean()\n",
    "overall_passing_spending = school_spending_df.groupby([\"Spending Ranges (Per Student)\"])[\"% Overall Passing\"].mean()\n",
    "\n",
    "#Create a new DataFrame spending_summary to display the mean scores per spending range:\n",
    "spending_summary = pd.DataFrame({\n",
    "    'Average Math Score': spending_math_scores,\n",
    "    'Average Reading Score': spending_reading_scores,\n",
    "    '% Passing Math': spending_passing_math,\n",
    "    '% Passing Reading': spending_passing_reading,\n",
    "    '% Overall Passing': overall_passing_spending\n",
    "})"
   ]
  },
  {
   "cell_type": "code",
   "execution_count": null,
   "id": "e4c9f3bb",
   "metadata": {},
   "outputs": [],
   "source": [
    "#  Calculate averages for the desired columns.\n",
    "spending_math_scores = school_spending_df.groupby([\"Spending Ranges (Per Student)\"])[\"Average Math Score\"].mean()\n",
    "spending_reading_scores = school_spending_df.groupby([\"Spending Ranges (Per Student)\"])[\"Average Reading Score\"].mean()\n",
    "spending_passing_math = school_spending_df.groupby([\"Spending Ranges (Per Student)\"])[\"% Passing Math\"].mean()\n",
    "spending_passing_reading = school_spending_df.groupby([\"Spending Ranges (Per Student)\"])[\"% Passing Reading\"].mean()\n",
    "overall_passing_spending = school_spending_df.groupby([\"Spending Ranges (Per Student)\"])[\"% Overall Passing\"].mean()"
   ]
  },
  {
   "cell_type": "code",
   "execution_count": null,
   "id": "3983c407",
   "metadata": {},
   "outputs": [],
   "source": [
    "# Assemble into DataFrame\n",
    "spending_summary = pd.DataFrame({\n",
    "    'Average Math Score': spending_math_scores,\n",
    "    'Average Reading Score': spending_reading_scores,\n",
    "    '% Passing Math': spending_passing_math,\n",
    "    '% Passing Reading': spending_passing_reading,\n",
    "    '% Overall Passing': overall_passing_spending\n",
    "})\n",
    "\n",
    "# Display the spending_summary DataFrame\n",
    "print(spending_summary)"
   ]
  },
  {
   "cell_type": "markdown",
   "id": "d5479ef4",
   "metadata": {
    "jp-MarkdownHeadingCollapsed": true
   },
   "source": [
    "## Scores by School Size"
   ]
  },
  {
   "cell_type": "code",
   "execution_count": null,
   "id": "7165d5a0",
   "metadata": {},
   "outputs": [],
   "source": [
    "# Establish the bins.\n",
    "size_bins = [0, 1000, 2000, 5000]\n",
    "labels = [\"Small (<1000)\", \"Medium (1000-2000)\", \"Large (2000-5000)\"]\n"
   ]
  },
  {
   "cell_type": "code",
   "execution_count": null,
   "id": "3e2a2972",
   "metadata": {},
   "outputs": [],
   "source": [
    "# Categorize the spending based on the bins\n",
    "# Use `pd.cut` on the \"Total Students\" column of the `per_school_summary` DataFrame.\n",
    "\n",
    "per_school_summary[\"School Size\"] = pd.cut(per_school_summary[\"Total Students\"], size_bins, labels=labels)\n",
    "per_school_summary"
   ]
  },
  {
   "cell_type": "code",
   "execution_count": null,
   "id": "a52c2421",
   "metadata": {},
   "outputs": [],
   "source": [
    "# Calculate averages for the desired columns.\n",
    "size_math_scores = per_school_summary.groupby([\"School Size\"])[\"Average Math Score\"].mean()\n",
    "size_reading_scores = per_school_summary.groupby([\"School Size\"])[\"Average Reading Score\"].mean()\n",
    "size_passing_math = per_school_summary.groupby([\"School Size\"])[\"% Passing Math\"].mean()\n",
    "size_passing_reading = per_school_summary.groupby([\"School Size\"])[\"% Passing Reading\"].mean()\n",
    "size_overall_passing = per_school_summary.groupby([\"School Size\"])[\"% Overall Passing\"].mean()"
   ]
  },
  {
   "cell_type": "code",
   "execution_count": null,
   "id": "2301f38a",
   "metadata": {},
   "outputs": [],
   "source": [
    "# Create a DataFrame called `size_summary` that breaks down school performance based on school size (small, medium, or large).\n",
    "# Use the scores above to create a new DataFrame called `size_summary`\n",
    "size_summary = per_school_summary.groupby(\"School Size\").agg({\n",
    "    \"Average Math Score\": \"mean\",\n",
    "    \"Average Reading Score\": \"mean\",\n",
    "    \"% Passing Math\": \"mean\",\n",
    "    \"% Passing Reading\": \"mean\",\n",
    "    \"% Overall Passing\": \"mean\"\n",
    "}).reset_index()\n",
    "\n",
    "# Display results\n",
    "size_summary\n"
   ]
  },
  {
   "cell_type": "markdown",
   "id": "66659ca3",
   "metadata": {
    "jp-MarkdownHeadingCollapsed": true
   },
   "source": [
    "## Scores by School Type"
   ]
  },
  {
   "cell_type": "code",
   "execution_count": null,
   "id": "ede32e40",
   "metadata": {},
   "outputs": [],
   "source": [
    "# Group the per_school_summary DataFrame by \"School Type\" and average the results.\n",
    "average_math_score_by_type = per_school_summary.groupby([\"School Type\"])[\"Average Math Score\"].mean()\n",
    "average_reading_score_by_type = per_school_summary.groupby([\"School Type\"])[\"Average Reading Score\"].mean()\n",
    "average_percent_passing_math_by_type = per_school_summary.groupby([\"School Type\"])[\"% Passing Math\"].mean()\n",
    "average_percent_passing_reading_by_type = per_school_summary.groupby([\"School Type\"])[\"% Passing Reading\"].mean()\n",
    "average_percent_overall_passing_by_type = per_school_summary.groupby([\"School Type\"])[\"% Overall Passing\"].mean()\n"
   ]
  },
  {
   "cell_type": "code",
   "execution_count": null,
   "id": "f4509e59",
   "metadata": {},
   "outputs": [],
   "source": [
    "# Assemble the new data by type into a DataFrame called `type_summary`\n",
    "type_summary = per_school_summary.groupby(\"School Type\").agg({\n",
    "    \"Average Math Score\": \"mean\",\n",
    "    \"Average Reading Score\": \"mean\",\n",
    "    \"% Passing Math\": \"mean\",\n",
    "    \"% Passing Reading\": \"mean\",\n",
    "    \"% Overall Passing\": \"mean\"\n",
    "}).reset_index()\n",
    "\n",
    "# Display results\n",
    "type_summary"
   ]
  },
  {
   "cell_type": "code",
   "execution_count": null,
   "id": "314acacd",
   "metadata": {},
   "outputs": [],
   "source": []
  }
 ],
 "metadata": {
  "kernelspec": {
   "display_name": "Python 3 (ipykernel)",
   "language": "python",
   "name": "python3"
  },
  "language_info": {
   "codemirror_mode": {
    "name": "ipython",
    "version": 3
   },
   "file_extension": ".py",
   "mimetype": "text/x-python",
   "name": "python",
   "nbconvert_exporter": "python",
   "pygments_lexer": "ipython3",
   "version": "3.10.14"
  }
 },
 "nbformat": 4,
 "nbformat_minor": 5
}
